{
 "cells": [
  {
   "cell_type": "markdown",
   "metadata": {},
   "source": [
    "# Training the model using SVM"
   ]
  },
  {
   "cell_type": "code",
   "execution_count": 2,
   "metadata": {},
   "outputs": [],
   "source": [
    "#imports:\n",
    "\n",
    "import cv2\n",
    "import os.path\n",
    "from imutils import paths\n",
    "from helpers import resize_to_fit\n",
    "import numpy as np\n",
    "from sklearn import datasets, svm, metrics\n",
    "from sklearn.model_selection import train_test_split\n"
   ]
  },
  {
   "cell_type": "code",
   "execution_count": 3,
   "metadata": {},
   "outputs": [
    {
     "name": "stdout",
     "output_type": "stream",
     "text": [
      "Gathering data and labels...\n",
      "done\n"
     ]
    }
   ],
   "source": [
    "#loading data sets and labels\n",
    "LETTERS_FOLDER = \"extracted_letter_images\"\n",
    "MODEL_FILENAME = \"captcha_model.hdf5\" # file extension may be different depending on how tensorflow saves them\n",
    "#MODEL_LABELS_FILENAME = \"model_labels.dat\"\n",
    "\n",
    "data = []\n",
    "labels = []\n",
    "\n",
    "print(\"Gathering data and labels...\")\n",
    "for image_file in paths.list_images(LETTERS_FOLDER):\n",
    "    # grayscale\n",
    "    image = cv2.imread(image_file)#.astype(np.float32)\n",
    "    image = cv2.cvtColor(image, cv2.COLOR_BGR2GRAY)\n",
    "\n",
    "    # resize to 20x20\n",
    "    image = resize_to_fit(image, 20, 20)\n",
    "\n",
    "    # get the name of the letter from its folder\n",
    "    label = image_file.split(os.path.sep)[-2]\n",
    "\n",
    "    # add to training data\n",
    "    data.append(image)\n",
    "    labels.append(label)\n",
    "\n",
    "data = np.array(data, dtype=\"float32\") / 255.0\n",
    "labels = np.array(labels)\n",
    "print(\"done\")"
   ]
  },
  {
   "cell_type": "code",
   "execution_count": 9,
   "metadata": {},
   "outputs": [
    {
     "name": "stdout",
     "output_type": "stream",
     "text": [
      "split into training and test data\n",
      "Training data and target sizes: \n",
      "(29058, 400), (29058,)\n",
      "Test data and target sizes: \n",
      "(9686, 400), (9686,)\n"
     ]
    }
   ],
   "source": [
    "print(\"split into training and test data\")\n",
    "(X_train, X_test, Y_train, Y_test) = train_test_split(data, labels, test_size=0.25, random_state=0)\n",
    "X_train = np.array(X_train)\n",
    "X_train = X_train.reshape([X_train.shape[0], X_train.shape[1]*X_train.shape[2]])\n",
    "X_test = X_test.reshape([X_test.shape[0], X_test.shape[1]*X_test.shape[2]])\n",
    "print('Training data and target sizes: \\n{}, {}'.format(X_train.shape,Y_train.shape))\n",
    "print('Test data and target sizes: \\n{}, {}'.format(X_test.shape,Y_test.shape))"
   ]
  },
  {
   "cell_type": "code",
   "execution_count": 16,
   "metadata": {
    "scrolled": false
   },
   "outputs": [],
   "source": [
    "#creating a classifier\n",
    "classifier = svm.LinearSVC(C=1.0, class_weight=None, dual=True, fit_intercept=True,\n",
    "     intercept_scaling=1, loss='squared_hinge', max_iter=10000000,\n",
    "     multi_class='crammer_singer', penalty='l2', random_state=None, tol=0.0001,\n",
    "     verbose=0)\n",
    "# classifier.fit(X_train,Y_train)\n"
   ]
  },
  {
   "cell_type": "code",
   "execution_count": 17,
   "metadata": {},
   "outputs": [
    {
     "name": "stderr",
     "output_type": "stream",
     "text": [
      "/home/swarup/anaconda3/lib/python3.5/site-packages/sklearn/svm/base.py:922: ConvergenceWarning: Liblinear failed to converge, increase the number of iterations.\n",
      "  \"the number of iterations.\", ConvergenceWarning)\n"
     ]
    },
    {
     "data": {
      "text/plain": [
       "LinearSVC(C=1.0, class_weight=None, dual=True, fit_intercept=True,\n",
       "     intercept_scaling=1, loss='squared_hinge', max_iter=100000,\n",
       "     multi_class='crammer_singer', penalty='l2', random_state=None,\n",
       "     tol=0.0001, verbose=0)"
      ]
     },
     "execution_count": 17,
     "metadata": {},
     "output_type": "execute_result"
    }
   ],
   "source": [
    "classifier.fit(X_train, Y_train) ##"
   ]
  },
  {
   "cell_type": "code",
   "execution_count": 18,
   "metadata": {},
   "outputs": [
    {
     "name": "stdout",
     "output_type": "stream",
     "text": [
      "Accuracy: 99.3186041709684%\n"
     ]
    }
   ],
   "source": [
    "clf_predictions = classifier.predict(X_test)\n",
    "print(\"Accuracy: {}%\".format(classifier.score(X_test, Y_test) * 100 ))"
   ]
  },
  {
   "cell_type": "code",
   "execution_count": null,
   "metadata": {},
   "outputs": [],
   "source": []
  }
 ],
 "metadata": {
  "kernelspec": {
   "display_name": "Python 3",
   "language": "python",
   "name": "python3"
  },
  "language_info": {
   "codemirror_mode": {
    "name": "ipython",
    "version": 3
   },
   "file_extension": ".py",
   "mimetype": "text/x-python",
   "name": "python",
   "nbconvert_exporter": "python",
   "pygments_lexer": "ipython3",
   "version": "3.5.6"
  }
 },
 "nbformat": 4,
 "nbformat_minor": 2
}
