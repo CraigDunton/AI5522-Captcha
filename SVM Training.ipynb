{
 "cells": [
  {
   "cell_type": "markdown",
   "metadata": {},
   "source": [
    "# Training the model using SVM"
   ]
  },
  {
   "cell_type": "code",
   "execution_count": 13,
   "metadata": {},
   "outputs": [],
   "source": [
    "#imports:\n",
    "\n",
    "import cv2\n",
    "import os.path\n",
    "from imutils import paths\n",
    "from helpers import resize_to_fit\n",
    "import numpy as np\n",
    "from sklearn import datasets, svm, metrics\n",
    "from sklearn.model_selection import train_test_split\n"
   ]
  },
  {
   "cell_type": "code",
   "execution_count": 14,
   "metadata": {},
   "outputs": [
    {
     "name": "stdout",
     "output_type": "stream",
     "text": [
      "Gathering data and labels...\n",
      "done\n"
     ]
    }
   ],
   "source": [
    "#loading data sets and labels\n",
    "LETTERS_FOLDER = \"extracted_letter_images\"\n",
    "MODEL_FILENAME = \"captcha_model.hdf5\" # file extension may be different depending on how tensorflow saves them\n",
    "#MODEL_LABELS_FILENAME = \"model_labels.dat\"\n",
    "\n",
    "data = []\n",
    "labels = []\n",
    "\n",
    "print(\"Gathering data and labels...\")\n",
    "for image_file in paths.list_images(LETTERS_FOLDER):\n",
    "    # grayscale\n",
    "    image = cv2.imread(image_file)#.astype(np.float32)\n",
    "    image = cv2.cvtColor(image, cv2.COLOR_BGR2GRAY)\n",
    "\n",
    "    # resize to 20x20\n",
    "    image = resize_to_fit(image, 20, 20)\n",
    "\n",
    "    # get the name of the letter from its folder\n",
    "    label = image_file.split(os.path.sep)[-2]\n",
    "\n",
    "    # add to training data\n",
    "    data.append(image)\n",
    "    labels.append(label)\n",
    "\n",
    "data = np.array(data, dtype=\"float32\") / 255.0\n",
    "labels = np.array(labels)\n",
    "print(\"done\")"
   ]
  },
  {
   "cell_type": "code",
   "execution_count": 15,
   "metadata": {},
   "outputs": [
    {
     "name": "stdout",
     "output_type": "stream",
     "text": [
      "split into training and test data\n",
      "Training data and target sizes: \n",
      "(29058, 20, 20), (29058,)\n",
      "Test data and target sizes: \n",
      "(9686, 20, 20), (9686,)\n"
     ]
    }
   ],
   "source": [
    "print(\"split into training and test data\")\n",
    "(X_train, X_test, Y_train, Y_test) = train_test_split(data, labels, test_size=0.25, random_state=0)\n",
    "print('Training data and target sizes: \\n{}, {}'.format(X_train.shape,Y_train.shape))\n",
    "print('Test data and target sizes: \\n{}, {}'.format(X_test.shape,Y_test.shape))"
   ]
  },
  {
   "cell_type": "code",
   "execution_count": 19,
   "metadata": {
    "scrolled": false
   },
   "outputs": [],
   "source": [
    "#creating a classifier\n",
    "classifier = svm.SVC(gamma=0.001)\n",
    "# classifier.fit(X_train,Y_train)\n"
   ]
  },
  {
   "cell_type": "code",
   "execution_count": 20,
   "metadata": {},
   "outputs": [
    {
     "ename": "AttributeError",
     "evalue": "'SVC' object has no attribute 'libsvm'",
     "output_type": "error",
     "traceback": [
      "\u001b[0;31m---------------------------------------------------------------------------\u001b[0m",
      "\u001b[0;31mAttributeError\u001b[0m                            Traceback (most recent call last)",
      "\u001b[0;32m<ipython-input-20-4c6e8e8c3098>\u001b[0m in \u001b[0;36m<module>\u001b[0;34m()\u001b[0m\n\u001b[0;32m----> 1\u001b[0;31m \u001b[0mclassifier\u001b[0m\u001b[0;34m.\u001b[0m\u001b[0mlibsvm\u001b[0m\u001b[0;34m.\u001b[0m\u001b[0mfit\u001b[0m\u001b[0;34m(\u001b[0m\u001b[0mX_train\u001b[0m\u001b[0;34m,\u001b[0m \u001b[0mY_train\u001b[0m\u001b[0;34m)\u001b[0m\u001b[0;34m\u001b[0m\u001b[0m\n\u001b[0m",
      "\u001b[0;31mAttributeError\u001b[0m: 'SVC' object has no attribute 'libsvm'"
     ]
    }
   ],
   "source": [
    "classifier.libsvm.fit(X_train, Y_train)"
   ]
  }
 ],
 "metadata": {
  "kernelspec": {
   "display_name": "Python 3",
   "language": "python",
   "name": "python3"
  },
  "language_info": {
   "codemirror_mode": {
    "name": "ipython",
    "version": 3
   },
   "file_extension": ".py",
   "mimetype": "text/x-python",
   "name": "python",
   "nbconvert_exporter": "python",
   "pygments_lexer": "ipython3",
   "version": "3.5.6"
  }
 },
 "nbformat": 4,
 "nbformat_minor": 2
}
